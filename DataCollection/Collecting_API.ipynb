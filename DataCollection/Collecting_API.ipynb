{
  "cells": [
    {
      "metadata": {
        "id": "vsWrVgPjTsvd"
      },
      "cell_type": "markdown",
      "source": [
        "<p style=\"text-align:center\">\n",
        "    <a href=\"https://skills.network/?utm_medium=Exinfluencer&utm_source=Exinfluencer&utm_content=000026UJ&utm_term=10006555&utm_id=NA-SkillsNetwork-Channel-SkillsNetworkCoursesIBMDA0321ENSkillsNetwork21426264-2022-01-01\" target=\"_blank\">\n",
        "    <img src=\"https://cf-courses-data.s3.us.cloud-object-storage.appdomain.cloud/assets/logos/SN_web_lightmode.png\" width=\"200\" alt=\"Skills Network Logo\"  />\n",
        "    </a>\n",
        "</p>\n"
      ]
    },
    {
      "metadata": {
        "id": "v7T2iUjUTsvi"
      },
      "cell_type": "markdown",
      "source": [
        "# **Collecting Job Data Using APIs**\n"
      ]
    },
    {
      "metadata": {
        "id": "HQ-2CO9KTsvi"
      },
      "cell_type": "markdown",
      "source": [
        "Estimated time needed: **45 to 60** minutes\n"
      ]
    },
    {
      "metadata": {
        "id": "ZsLP1HrjTsvj"
      },
      "cell_type": "markdown",
      "source": [
        "## Objectives\n"
      ]
    },
    {
      "metadata": {
        "id": "-UxA3gSBTsvj"
      },
      "cell_type": "markdown",
      "source": [
        "After completing this lab, you will be able to:\n"
      ]
    },
    {
      "metadata": {
        "id": "ia8jsy-jTsvk"
      },
      "cell_type": "markdown",
      "source": [
        "*   Collect job data from Jobs API\n",
        "*   Store the collected data into an excel spreadsheet.\n"
      ]
    },
    {
      "metadata": {
        "id": "vKYnL9urTsvk"
      },
      "cell_type": "markdown",
      "source": [
        "> <strong>Note: Before starting with the assignment make sure to read all the instructions and then move ahead with the coding part.</strong>\n"
      ]
    },
    {
      "metadata": {
        "id": "RZYkvPi8Tsvl"
      },
      "cell_type": "markdown",
      "source": [
        "#### Instructions\n"
      ]
    },
    {
      "metadata": {
        "id": "70jd5lRTTsvl"
      },
      "cell_type": "markdown",
      "source": [
        "To run the actual lab, firstly you need to click on the [Jobs_API](https://cf-courses-data.s3.us.cloud-object-storage.appdomain.cloud/IBM-DA0321EN-SkillsNetwork/labs/module%201/Accessing%20Data%20Using%20APIs/Jobs_API.ipynb) notebook link. The file contains flask code which is required to run the Jobs API data.\n",
        "\n",
        "Now, to run the code in the file that opens up follow the below steps.\n",
        "\n",
        "Step1: Download the file.\n",
        "\n",
        "Step2: Upload it on the IBM Watson studio. (If IBM Watson Cloud service does not work in your system, follow the alternate Step 2 below)\n",
        "\n",
        "Step2(alternate): Upload it in your SN labs environment using the upload button which is highlighted in red in the image below:\n",
        "Remember to upload this Jobs_API file in the same folder as your current .ipynb file\n",
        "\n",
        "<img src=\"https://cf-courses-data.s3.us.cloud-object-storage.appdomain.cloud/IBM-DA0321EN-SkillsNetwork/labs/module%201/Accessing%20Data%20Using%20APIs/Upload.PNG\" />\n",
        "\n",
        "Step3:  Run all the cells of the Jobs_API file. (Even if you receive an asterik sign after running the last cell, the code works fine.)\n",
        "\n",
        "If you want to learn more about flask, which is optional, you can click on this link [here](https://cf-courses-data.s3.us.cloud-object-storage.appdomain.cloud/IBM-DA0321EN-SkillsNetwork/labs/module%201/Accessing%20Data%20Using%20APIs/FLASK_API.md.html).\n",
        "\n",
        "Once you run the flask code, you can start with your assignment.\n"
      ]
    },
    {
      "metadata": {
        "id": "rLdOmJw4Tsvm"
      },
      "cell_type": "markdown",
      "source": [
        "## Dataset Used in this Assignment\n",
        "\n",
        "The dataset used in this lab comes from the following source: [https://www.kaggle.com/promptcloud/jobs-on-naukricom](https://www.kaggle.com/promptcloud/jobs-on-naukricom?utm_medium=Exinfluencer&utm_source=Exinfluencer&utm_content=000026UJ&utm_term=10006555&utm_id=NA-SkillsNetwork-Channel-SkillsNetworkCoursesIBMDA0321ENSkillsNetwork21426264-2022-01-01) under the under a **Public Domain license**.\n",
        "\n",
        "> Note: We are using a modified subset of that dataset for the lab, so to follow the lab instructions successfully please use the dataset provided with the lab, rather than the dataset from the original source.\n",
        "\n",
        "The original dataset is a csv. We have converted the csv to json as per the requirement of the lab.\n"
      ]
    },
    {
      "metadata": {
        "id": "AXZQc39UTsvm"
      },
      "cell_type": "markdown",
      "source": [
        "## Warm-Up Exercise\n"
      ]
    },
    {
      "metadata": {
        "id": "RqstAv_ZTsvn"
      },
      "cell_type": "markdown",
      "source": [
        "Before you attempt the actual lab, here is a fully solved warmup exercise that will help you to learn how to access an API.\n"
      ]
    },
    {
      "metadata": {
        "id": "H8aGDQejTsvn"
      },
      "cell_type": "markdown",
      "source": [
        "Using an API, let us find out who currently are on the International Space Station (ISS).<br> The API at [http://api.open-notify.org/astros.json](http://api.open-notify.org/astros.json?utm_medium=Exinfluencer&utm_source=Exinfluencer&utm_content=000026UJ&utm_term=10006555&utm_id=NA-SkillsNetwork-Channel-SkillsNetworkCoursesIBMDA0321ENSkillsNetwork21426264-2021-01-01&cm_mmc=Email_Newsletter-\\_-Developer_Ed%2BTech-\\_-WW_WW-\\_-SkillsNetwork-Courses-IBM-DA0321EN-SkillsNetwork-21426264&cm_mmca1=000026UJ&cm_mmca2=10006555&cm_mmca3=M12345678&cvosrc=email.Newsletter.M12345678&cvo_campaign=000026UJ) gives us the information of astronauts currently on ISS in json format.<br>\n",
        "You can read more about this API at [http://open-notify.org/Open-Notify-API/People-In-Space/](http://open-notify.org/Open-Notify-API/People-In-Space?utm_medium=Exinfluencer&utm_source=Exinfluencer&utm_content=000026UJ&utm_term=10006555&utm_id=NA-SkillsNetwork-Channel-SkillsNetworkCoursesIBMDA0321ENSkillsNetwork21426264-2021-01-01&cm_mmc=Email_Newsletter-\\_-Developer_Ed%2BTech-\\_-WW_WW-\\_-SkillsNetwork-Courses-IBM-DA0321EN-SkillsNetwork-21426264&cm_mmca1=000026UJ&cm_mmca2=10006555&cm_mmca3=M12345678&cvosrc=email.Newsletter.M12345678&cvo_campaign=000026UJ)\n"
      ]
    },
    {
      "metadata": {
        "id": "VGfFSY48Tsvo",
        "colab": {
          "base_uri": "https://localhost:8080/"
        },
        "outputId": "0f797de6-b13f-4eee-943b-0b32fe3d7b27"
      },
      "cell_type": "code",
      "source": [
        "#Import required libraries\n",
        "import requests # you need this module to make an API call\n",
        "import pandas as pd\n",
        "import json\n",
        "!pip3 install openpyxl\n",
        "from openpyxl import Workbook"
      ],
      "execution_count": 18,
      "outputs": [
        {
          "output_type": "stream",
          "name": "stdout",
          "text": [
            "Requirement already satisfied: openpyxl in /usr/local/lib/python3.10/dist-packages (3.1.2)\n",
            "Requirement already satisfied: et-xmlfile in /usr/local/lib/python3.10/dist-packages (from openpyxl) (1.1.0)\n"
          ]
        }
      ]
    },
    {
      "metadata": {
        "id": "wZpSHyQYTsvp"
      },
      "cell_type": "code",
      "source": [
        "api_url = \"http://api.open-notify.org/astros.json\" # this url gives use the astronaut data"
      ],
      "execution_count": 2,
      "outputs": []
    },
    {
      "metadata": {
        "id": "ShKxPu18Tsvp"
      },
      "cell_type": "code",
      "source": [
        "response = requests.get(api_url) # Call the API using the get method and store the\n",
        "                                # output of the API call in a variable called response."
      ],
      "execution_count": 3,
      "outputs": []
    },
    {
      "metadata": {
        "id": "KbcIEgRMTsvq"
      },
      "cell_type": "code",
      "source": [
        "if response.ok:             # if all is well() no errors, no network timeouts)\n",
        "    data = response.json()  # store the result in json format in a variable called data\n",
        "                            # the variable data is of type dictionary."
      ],
      "execution_count": 4,
      "outputs": []
    },
    {
      "metadata": {
        "colab": {
          "base_uri": "https://localhost:8080/"
        },
        "id": "_QuFGBzuTsvq",
        "outputId": "6f40ca56-01b0-446d-c7c0-5acb23ff8174"
      },
      "cell_type": "code",
      "source": [
        "print(data)   # print the data just to check the output or for debugging"
      ],
      "execution_count": 5,
      "outputs": [
        {
          "output_type": "stream",
          "name": "stdout",
          "text": [
            "{'message': 'success', 'people': [{'name': 'Jasmin Moghbeli', 'craft': 'ISS'}, {'name': 'Andreas Mogensen', 'craft': 'ISS'}, {'name': 'Satoshi Furukawa', 'craft': 'ISS'}, {'name': 'Konstantin Borisov', 'craft': 'ISS'}, {'name': 'Oleg Kononenko', 'craft': 'ISS'}, {'name': 'Nikolai Chub', 'craft': 'ISS'}, {'name': \"Loral O'Hara\", 'craft': 'ISS'}], 'number': 7}\n"
          ]
        }
      ]
    },
    {
      "metadata": {
        "id": "1IeeSbDnTsvr"
      },
      "cell_type": "markdown",
      "source": [
        "Print the number of astronauts currently on ISS.\n"
      ]
    },
    {
      "metadata": {
        "colab": {
          "base_uri": "https://localhost:8080/"
        },
        "id": "dr1jLd5gTsvr",
        "outputId": "15730aa1-6c94-4a31-ae78-ce098499400e"
      },
      "cell_type": "code",
      "source": [
        "print(data.get('number'))"
      ],
      "execution_count": 6,
      "outputs": [
        {
          "output_type": "stream",
          "name": "stdout",
          "text": [
            "7\n"
          ]
        }
      ]
    },
    {
      "metadata": {
        "id": "dpkqy9y3Tsvr"
      },
      "cell_type": "markdown",
      "source": [
        "Print the names of the astronauts currently on ISS.\n"
      ]
    },
    {
      "metadata": {
        "colab": {
          "base_uri": "https://localhost:8080/"
        },
        "id": "o2HX2yo1Tsvs",
        "outputId": "cd17357f-33c5-4488-86ee-17d319aea746"
      },
      "cell_type": "code",
      "source": [
        "astronauts = data.get('people')\n",
        "print(\"There are {} astronauts on ISS\".format(len(astronauts)))\n",
        "print(\"And their names are :\")\n",
        "for astronaut in astronauts:\n",
        "    print(astronaut.get('name'))"
      ],
      "execution_count": 7,
      "outputs": [
        {
          "output_type": "stream",
          "name": "stdout",
          "text": [
            "There are 7 astronauts on ISS\n",
            "And their names are :\n",
            "Jasmin Moghbeli\n",
            "Andreas Mogensen\n",
            "Satoshi Furukawa\n",
            "Konstantin Borisov\n",
            "Oleg Kononenko\n",
            "Nikolai Chub\n",
            "Loral O'Hara\n"
          ]
        }
      ]
    },
    {
      "metadata": {
        "id": "Cr5TgiN4Tsvs"
      },
      "cell_type": "markdown",
      "source": [
        "Hope the warmup was helpful. Good luck with your next lab!\n"
      ]
    },
    {
      "metadata": {
        "id": "7tPNCvQFTsvs"
      },
      "cell_type": "markdown",
      "source": [
        "## Lab: Collect Jobs Data using Jobs API\n"
      ]
    },
    {
      "metadata": {
        "id": "MOW7I7Q8Tsvs"
      },
      "cell_type": "markdown",
      "source": [
        "### Objective: Determine the number of jobs currently open for various technologies  and for various locations\n"
      ]
    },
    {
      "metadata": {
        "id": "QAbb3PE2Tsvt"
      },
      "cell_type": "markdown",
      "source": [
        "Collect the number of job postings for the following locations using the API:\n",
        "\n",
        "*   Los Angeles\n",
        "*   New York\n",
        "*   San Francisco\n",
        "*   Washington DC\n",
        "*   Seattle\n",
        "*   Austin\n",
        "*   Detroit\n"
      ]
    },
    {
      "metadata": {
        "id": "98dDIo7WTsvt"
      },
      "cell_type": "markdown",
      "source": [
        "#### Write a function to get the number of jobs for the Python technology.<br>\n",
        "\n",
        "> Note: While using the lab you need to pass the **payload** information for the **params** attribute in the form of **key** **value** pairs.\n",
        "\n",
        "Refer the ungraded **rest api lab** in the course **Python for Data Science, AI & Development**  <a href=\"https://www.coursera.org/learn/python-for-applied-data-science-ai/ungradedLti/P6sW8/hands-on-lab-access-rest-apis-request-http?utm_medium=Exinfluencer&utm_source=Exinfluencer&utm_content=000026UJ&utm_term=10006555&utm_id=NA-SkillsNetwork-Channel-SkillsNetworkCoursesIBMDA0321ENSkillsNetwork21426264-2022-01-01\">link</a>\n",
        "\n",
        "##### The keys in the json are\n",
        "\n",
        "*   Job Title\n",
        "\n",
        "*   Job Experience Required\n",
        "\n",
        "*   Key Skills\n",
        "\n",
        "*   Role Category\n",
        "\n",
        "*   Location\n",
        "\n",
        "*   Functional Area\n",
        "\n",
        "*   Industry\n",
        "\n",
        "*   Role\n",
        "\n",
        "You can also view  the json file contents  from the following <a href = \"https://cf-courses-data.s3.us.cloud-object-storage.appdomain.cloud/IBM-DA0321EN-SkillsNetwork/labs/module%201/Accessing%20Data%20Using%20APIs/jobs.json?utm_medium=Exinfluencer&utm_source=Exinfluencer&utm_content=000026UJ&utm_term=10006555&utm_id=NA-SkillsNetwork-Channel-SkillsNetworkCoursesIBMDA0321ENSkillsNetwork21426264-2022-01-01\">json</a> URL.\n"
      ]
    },
    {
      "metadata": {
        "id": "DcUyzm8gTsvt"
      },
      "cell_type": "code",
      "source": [
        "api_url=\"https://cf-courses-data.s3.us.cloud-object-storage.appdomain.cloud/IBM-DA0321EN-SkillsNetwork/labs/module%201/datasets/githubposting.json\"\n",
        "response = requests.get(api_url)"
      ],
      "execution_count": 9,
      "outputs": []
    },
    {
      "metadata": {
        "id": "ESVsaqC8Tsvt"
      },
      "cell_type": "code",
      "source": [
        "if response.ok:\n",
        "    data = response.json()"
      ],
      "execution_count": 10,
      "outputs": []
    },
    {
      "metadata": {
        "colab": {
          "base_uri": "https://localhost:8080/"
        },
        "id": "QpWJKC0hTsvu",
        "outputId": "e94ed2b6-2d3b-4e09-f505-bbd9d10db3aa"
      },
      "cell_type": "code",
      "source": [
        "print(data)"
      ],
      "execution_count": 11,
      "outputs": [
        {
          "output_type": "stream",
          "name": "stdout",
          "text": [
            "{'technology': {'0': 'java', '1': 'C', '2': 'C#', '3': 'C++', '4': 'Java', '5': 'JavaScript', '6': 'Python', '7': 'Scala', '8': 'Oracle', '9': 'SQL Server', '10': 'MySQL Server', '11': 'PostgreSQL', '12': 'MongoDB', '13': 'java', '14': 'C', '15': 'C#', '16': 'C++', '17': 'Java', '18': 'JavaScript', '19': 'Python', '20': 'Scala', '21': 'Oracle', '22': 'SQL Server', '23': 'MySQL Server', '24': 'PostgreSQL', '25': 'MongoDB', '26': 'C', '27': 'MySQL Server', '28': 'SQL Server', '29': 'PostgreSQL', '30': 'Java', '31': 'PostgreSQL', '32': 'Java', '33': 'C', '34': 'MongoDB', '35': 'Oracle', '36': 'PostgreSQL', '37': 'MongoDB', '38': 'MySQL Server', '39': 'Java', '40': 'JavaScript', '41': 'Python', '42': 'C', '43': 'MongoDB', '44': 'MySQL Server', '45': 'PostgreSQL', '46': 'Oracle', '47': 'Java', '48': 'JavaScript', '49': 'Java', '50': 'Java', '51': 'MySQL Server', '52': 'C++', '53': 'JavaScript', '54': 'MySQL Server', '55': 'PostgreSQL', '56': 'PostgreSQL', '57': 'Java', '58': 'Java', '59': 'C#', '60': 'Python', '61': 'SQL Server', '62': 'MySQL Server', '63': 'Java', '64': 'MySQL Server', '65': 'PostgreSQL', '66': 'Java', '67': 'C#', '68': 'PostgreSQL', '69': 'Oracle', '70': 'C#', '71': 'C#', '72': 'PostgreSQL', '73': 'Java', '74': 'JavaScript', '75': 'Java', '76': 'Oracle', '77': 'MySQL Server', '78': 'MySQL Server', '79': 'MySQL Server', '80': 'Java', '81': 'Java', '82': 'Oracle', '83': 'JavaScript', '84': 'PostgreSQL', '85': 'MongoDB', '86': 'Java', '87': 'MongoDB', '88': 'JavaScript', '89': 'C++', '90': 'Oracle', '91': 'MongoDB', '92': 'SQL Server', '93': 'C++', '94': 'Oracle', '95': 'JavaScript', '96': 'Java', '97': 'java', '98': 'MongoDB', '99': 'C#', '100': 'MySQL Server', '101': 'PostgreSQL', '102': 'MongoDB', '103': 'java', '104': 'Python', '105': 'Java', '106': 'MongoDB', '107': 'MongoDB', '108': 'C++', '109': 'MySQL Server', '110': 'Java', '111': 'PostgreSQL', '112': 'Python', '113': 'java', '114': 'SQL Server', '115': 'Java', '116': 'Python', '117': 'JavaScript', '118': 'PostgreSQL', '119': 'PostgreSQL', '120': 'C++', '121': 'MySQL Server', '122': 'MongoDB', '123': 'C#', '124': 'PostgreSQL', '125': 'PostgreSQL', '126': 'C++', '127': 'Oracle', '128': 'Python', '129': 'JavaScript', '130': 'MongoDB', '131': 'PostgreSQL', '132': 'MySQL Server', '133': 'C#', '134': 'MySQL Server', '135': 'PostgreSQL', '136': 'PostgreSQL', '137': 'MySQL Server', '138': 'Scala', '139': 'C++', '140': 'MongoDB', '141': 'C++', '142': 'MongoDB', '143': 'Java', '144': 'Java', '145': 'java', '146': 'SQL Server', '147': 'Python', '148': 'java', '149': 'SQL Server', '150': 'JavaScript', '151': 'JavaScript', '152': 'C#', '153': 'JavaScript', '154': 'Java', '155': 'PostgreSQL', '156': 'PostgreSQL', '157': 'Java', '158': 'C++', '159': 'JavaScript', '160': 'Java', '161': 'Oracle', '162': 'Python', '163': 'Oracle', '164': 'java', '165': 'C#', '166': 'Java', '167': 'PostgreSQL', '168': 'PostgreSQL', '169': 'Python', '170': 'Java', '171': 'MySQL Server', '172': 'C#', '173': 'Python', '174': 'Python', '175': 'SQL Server', '176': 'MongoDB', '177': 'Java', '178': 'C#', '179': 'MongoDB', '180': 'Oracle', '181': 'Python', '182': 'Scala', '183': 'PostgreSQL', '184': 'Scala', '185': 'C#', '186': 'Java', '187': 'Java', '188': 'C++', '189': 'Python', '190': 'MongoDB', '191': 'Java', '192': 'MongoDB', '193': 'C++', '194': 'PostgreSQL', '195': 'Java', '196': 'C#', '197': 'MySQL Server', '198': 'Oracle', '199': 'Java', '200': 'Java', '201': 'MongoDB', '202': 'Python', '203': 'SQL Server', '204': 'C', '205': 'Oracle', '206': 'Python', '207': 'Python', '208': 'MongoDB', '209': 'Scala', '210': 'PostgreSQL', '211': 'Oracle', '212': 'Java', '213': 'MongoDB', '214': 'C', '215': 'MongoDB', '216': 'Oracle', '217': 'Python', '218': 'Java', '219': 'MySQL Server', '220': 'JavaScript', '221': 'PostgreSQL', '222': 'Oracle', '223': 'Python', '224': 'Python', '225': 'JavaScript', '226': 'MongoDB', '227': 'Java', '228': 'MySQL Server', '229': 'JavaScript', '230': 'Java', '231': 'Oracle', '232': 'JavaScript', '233': 'PostgreSQL', '234': 'MySQL Server', '235': 'MySQL Server', '236': 'Oracle', '237': 'Scala', '238': 'Java', '239': 'C#', '240': 'Oracle', '241': 'Oracle', '242': 'java', '243': 'PostgreSQL', '244': 'MongoDB', '245': 'PostgreSQL', '246': 'MongoDB', '247': 'Scala', '248': 'MySQL Server', '249': 'Oracle', '250': 'Java', '251': 'C#', '252': 'PostgreSQL', '253': 'MongoDB', '254': 'Scala', '255': 'JavaScript'}, 'number of job posting': {'0': '1', '1': '10', '2': '1', '3': '1', '4': '2', '5': '4', '6': '1', '7': '5', '8': '0', '9': '1', '10': '0', '11': '1', '12': '0', '13': '1', '14': '20', '15': '2', '16': '3', '17': '2', '18': '3', '19': '2', '20': '7', '21': '0', '22': '1', '23': '0', '24': '1', '25': '0', '26': '26', '27': '0', '28': '1', '29': '0', '30': '2', '31': '0', '32': '2', '33': '15', '34': '0', '35': '1', '36': '0', '37': '1', '38': '0', '39': '1', '40': '2', '41': '5', '42': '40', '43': '1', '44': '0', '45': '0', '46': '1', '47': '6', '48': '4', '49': '8', '50': '1', '51': '0', '52': '2', '53': '4', '54': '0', '55': '1', '56': '1', '57': '2', '58': '3', '59': '1', '60': '2', '61': '2', '62': '1', '63': '1', '64': '1', '65': '0', '66': '1', '67': '0', '68': '0', '69': '1', '70': '1', '71': '0', '72': '0', '73': '2', '74': '2', '75': '1', '76': '0', '77': '1', '78': '0', '79': '0', '80': '2', '81': '3', '82': '0', '83': '5', '84': '0', '85': '2', '86': '2', '87': '2', '88': '3', '89': '2', '90': '0', '91': '1', '92': '1', '93': '2', '94': '0', '95': '2', '96': '2', '97': '1', '98': '1', '99': '0', '100': '0', '101': '0', '102': '1', '103': '2', '104': '7', '105': '1', '106': '1', '107': '0', '108': '2', '109': '1', '110': '2', '111': '0', '112': '2', '113': '1', '114': '2', '115': '2', '116': '2', '117': '3', '118': '0', '119': '1', '120': '2', '121': '0', '122': '1', '123': '1', '124': '1', '125': '1', '126': '2', '127': '0', '128': '1', '129': '3', '130': '0', '131': '0', '132': '0', '133': '1', '134': '1', '135': '0', '136': '0', '137': '0', '138': '5', '139': '1', '140': '0', '141': '2', '142': '0', '143': '1', '144': '2', '145': '1', '146': '4', '147': '1', '148': '1', '149': '2', '150': '5', '151': '2', '152': '1', '153': '3', '154': '1', '155': '1', '156': '1', '157': '2', '158': '1', '159': '3', '160': '3', '161': '0', '162': '2', '163': '0', '164': '0', '165': '1', '166': '1', '167': '1', '168': '0', '169': '3', '170': '2', '171': '0', '172': '1', '173': '3', '174': '1', '175': '1', '176': '1', '177': '2', '178': '1', '179': '1', '180': '1', '181': '3', '182': '6', '183': '0', '184': '4', '185': '0', '186': '1', '187': '2', '188': '2', '189': '2', '190': '1', '191': '1', '192': '0', '193': '2', '194': '1', '195': '1', '196': '1', '197': '0', '198': '1', '199': '1', '200': '1', '201': '0', '202': '2', '203': '1', '204': '20', '205': '0', '206': '1', '207': '4', '208': '0', '209': '7', '210': '1', '211': '0', '212': '1', '213': '0', '214': '53', '215': '0', '216': '0', '217': '3', '218': '6', '219': '0', '220': '6', '221': '1', '222': '0', '223': '2', '224': '2', '225': '5', '226': '1', '227': '3', '228': '1', '229': '1', '230': '1', '231': '1', '232': '2', '233': '1', '234': '0', '235': '0', '236': '1', '237': '3', '238': '2', '239': '1', '240': '1', '241': '0', '242': '1', '243': '1', '244': '1', '245': '1', '246': '1', '247': '8', '248': '1', '249': '0', '250': '1', '251': '1', '252': '1', '253': '1', '254': '2', '255': '3'}}\n"
          ]
        }
      ]
    },
    {
      "metadata": {
        "id": "3iRceSqiTsvu"
      },
      "cell_type": "code",
      "source": [
        "def get_number_of_jobs_T(technology):\n",
        "    number_of_jobs= 0\n",
        "    if response.ok:\n",
        "        data = response.json()\n",
        "        tecnologies = data.get('technology')\n",
        "        for item in tecnologies:\n",
        "            if tecnologies.get(item).lower()==technology.lower():\n",
        "                number_of_jobs += int(data.get('number of job posting').get(item))\n",
        "    return technology,number_of_jobs"
      ],
      "execution_count": 12,
      "outputs": []
    },
    {
      "metadata": {
        "id": "dGksdYHeTsvu"
      },
      "cell_type": "markdown",
      "source": [
        "Calling the function for Python and checking if it works.\n"
      ]
    },
    {
      "metadata": {
        "colab": {
          "base_uri": "https://localhost:8080/"
        },
        "id": "Y-gAiLOFTsvu",
        "outputId": "269c78a5-0b5c-4c01-cd9d-f9272fa4ec5c"
      },
      "cell_type": "code",
      "source": [
        "print(get_number_of_jobs_T(\"Python\"))"
      ],
      "execution_count": 13,
      "outputs": [
        {
          "output_type": "stream",
          "name": "stdout",
          "text": [
            "('Python', 51)\n"
          ]
        }
      ]
    },
    {
      "metadata": {
        "id": "KHsAOGCcTsvv"
      },
      "cell_type": "markdown",
      "source": [
        "#### Write a function to find number of jobs in US for a location of your choice\n"
      ]
    },
    {
      "cell_type": "code",
      "source": [
        "def get_number_of_jobs_for_location(api_url, location):\n",
        "    number_of_jobs = 0\n",
        "\n",
        "    response = requests.get(api_url)\n",
        "\n",
        "    if response.ok:\n",
        "        data = response.json()\n",
        "\n",
        "        # Check if the response is a list\n",
        "        if isinstance(data, list):\n",
        "            for item in data:\n",
        "                if item.get('Location', '').lower() == location.lower():\n",
        "                    number_of_jobs += 1  # Since the structure is different, just count occurrences\n",
        "        else:\n",
        "            locations = data.get('Location', {})\n",
        "\n",
        "            for item in locations:\n",
        "                if locations.get(item).lower() == location.lower():\n",
        "                    number_of_jobs += int(data.get('number of job posting', {}).get(item, 0))\n",
        "\n",
        "    return location, number_of_jobs\n",
        "\n",
        "# Example usage\n",
        "api_url = \"https://cf-courses-data.s3.us.cloud-object-storage.appdomain.cloud/IBM-DA0321EN-SkillsNetwork/labs/module%201/Accessing%20Data%20Using%20APIs/jobs.json?utm_medium=Exinfluencer&utm_source=Exinfluencer&utm_content=000026UJ&utm_term=10006555&utm_id=NA-SkillsNetwork-Channel-SkillsNetworkCoursesIBMDA0321ENSkillsNetwork21426264-2022-01-01\"\n",
        "location = \"Los Angeles\"  # Replace with your desired location\n",
        "result = get_number_of_jobs_for_location(api_url, location)\n",
        "\n",
        "print(f\"Number of jobs in {result[0]}: {result[1]}\")"
      ],
      "metadata": {
        "colab": {
          "base_uri": "https://localhost:8080/"
        },
        "id": "bBhmqsPhdQmb",
        "outputId": "aeab0cb0-b77b-40bf-a3b9-d4dc5fbdf4b0"
      },
      "execution_count": 14,
      "outputs": [
        {
          "output_type": "stream",
          "name": "stdout",
          "text": [
            "Number of jobs in Los Angeles: 640\n"
          ]
        }
      ]
    },
    {
      "cell_type": "code",
      "source": [
        "def get_unique_locations(api_url):\n",
        "    unique_locations = set()\n",
        "\n",
        "    response = requests.get(api_url)\n",
        "\n",
        "    if response.ok:\n",
        "        data = response.json()\n",
        "\n",
        "        # Check if the response is a list\n",
        "        if isinstance(data, list):\n",
        "            for item in data:\n",
        "                location = item.get('Location', '').lower()\n",
        "                if location:\n",
        "                    unique_locations.add(location)\n",
        "        else:\n",
        "            locations = data.get('Location', {})\n",
        "            unique_locations.update(locations.values())\n",
        "\n",
        "    return list(unique_locations)\n",
        "\n",
        "# Example usage\n",
        "api_url = \"https://cf-courses-data.s3.us.cloud-object-storage.appdomain.cloud/IBM-DA0321EN-SkillsNetwork/labs/module%201/Accessing%20Data%20Using%20APIs/jobs.json?utm_medium=Exinfluencer&utm_source=Exinfluencer&utm_content=000026UJ&utm_term=10006555&utm_id=NA-SkillsNetwork-Channel-SkillsNetworkCoursesIBMDA0321ENSkillsNetwork21426264-2022-01-01\"\n",
        "locations_list = get_unique_locations(api_url)\n",
        "\n",
        "print(\"Unique locations:\", locations_list)"
      ],
      "metadata": {
        "colab": {
          "base_uri": "https://localhost:8080/"
        },
        "id": "ydtKr8Wcf4s5",
        "outputId": "c56394d4-3e62-46e4-a21d-c519dd5791b4"
      },
      "execution_count": 15,
      "outputs": [
        {
          "output_type": "stream",
          "name": "stdout",
          "text": [
            "Unique locations: ['san francisco', 'austin', 'los angeles', 'seattle', 'houston', 'philadelphia', 'baltimore', 'new orleons', 'dallas', 'boston', 'detroit', 'washington dc', 'new york']\n"
          ]
        }
      ]
    },
    {
      "cell_type": "code",
      "source": [
        "Unique_locations=['seattle', 'san francisco', 'baltimore', 'los angeles', 'houston', 'new york', 'philadelphia', 'austin', 'washington dc', 'dallas', 'boston', 'detroit', 'new orleons']\n",
        "# your code goes here\n",
        "wb=Workbook()\n",
        "ws=wb.active\n",
        "api_url = \"https://cf-courses-data.s3.us.cloud-object-storage.appdomain.cloud/IBM-DA0321EN-SkillsNetwork/labs/module%201/Accessing%20Data%20Using%20APIs/jobs.json?utm_medium=Exinfluencer&utm_source=Exinfluencer&utm_content=000026UJ&utm_term=10006555&utm_id=NA-SkillsNetwork-Channel-SkillsNetworkCoursesIBMDA0321ENSkillsNetwork21426264-2022-01-01\"\n",
        "loc_list = list()\n",
        "for loca in Unique_locations:\n",
        "    locas = get_number_of_jobs_for_location(api_url,loca)\n",
        "    loc_list.append(locas)\n",
        "\n",
        "ws.append(['Location', 'Job Postings'])\n",
        "[ws.append(i) for i in loc_list]\n"
      ],
      "metadata": {
        "colab": {
          "base_uri": "https://localhost:8080/"
        },
        "id": "JPd7WUp-gB1v",
        "outputId": "d8b33978-be01-4d63-b13b-201c2c873538"
      },
      "execution_count": 19,
      "outputs": [
        {
          "output_type": "execute_result",
          "data": {
            "text/plain": [
              "[None, None, None, None, None, None, None, None, None, None, None, None, None]"
            ]
          },
          "metadata": {},
          "execution_count": 19
        }
      ]
    },
    {
      "cell_type": "code",
      "source": [
        "#Save xlsx file\n",
        "wb.save(\"github-loc-postings.xlsx\")"
      ],
      "metadata": {
        "id": "H7u5WYELxp0T"
      },
      "execution_count": null,
      "outputs": []
    },
    {
      "metadata": {
        "id": "5gDV4QErTsv7"
      },
      "cell_type": "markdown",
      "source": [
        "### Store the results in an excel file\n"
      ]
    },
    {
      "metadata": {
        "id": "gNoFy0KvTsv7"
      },
      "cell_type": "markdown",
      "source": [
        "Call the API for all the given technologies above and write the results in an excel spreadsheet.\n"
      ]
    },
    {
      "metadata": {
        "id": "qb9lai9QTsv7"
      },
      "cell_type": "markdown",
      "source": [
        "If you do not know how create excel file using python, double click here for **hints**.\n",
        "\n",
        "<!--\n",
        "\n",
        "from openpyxl import Workbook        # import Workbook class from module openpyxl\n",
        "wb=Workbook()                        # create a workbook object\n",
        "ws=wb.active                         # use the active worksheet\n",
        "ws.append(['Country','Continent'])   # add a row with two columns 'Country' and 'Continent'\n",
        "ws.append(['Eygpt','Africa'])        # add a row with two columns 'Egypt' and 'Africa'\n",
        "ws.append(['India','Asia'])          # add another row\n",
        "ws.append(['France','Europe'])       # add another row\n",
        "wb.save(\"countries.xlsx\")            # save the workbook into a file called countries.xlsx\n",
        "\n",
        "\n",
        "-->\n"
      ]
    },
    {
      "metadata": {
        "id": "CLIeP2u6Tsv7"
      },
      "cell_type": "markdown",
      "source": [
        "Create a python list of all locations for which you need to find the number of jobs postings.\n"
      ]
    },
    {
      "metadata": {
        "colab": {
          "base_uri": "https://localhost:8080/"
        },
        "id": "b8ErW51bTsv8",
        "outputId": "f35758ad-08c6-4a98-dbf4-22daea2181b9"
      },
      "cell_type": "code",
      "source": [
        "#Create technologies list\n",
        "technologies = ['C','C#','C++','Java','JavaScript','Python','Scala','Oracle','SQL Server','MySQL Server','PostgreSQL','MongoDB']\n",
        "technologies"
      ],
      "execution_count": 17,
      "outputs": [
        {
          "output_type": "execute_result",
          "data": {
            "text/plain": [
              "['C',\n",
              " 'C#',\n",
              " 'C++',\n",
              " 'Java',\n",
              " 'JavaScript',\n",
              " 'Python',\n",
              " 'Scala',\n",
              " 'Oracle',\n",
              " 'SQL Server',\n",
              " 'MySQL Server',\n",
              " 'PostgreSQL',\n",
              " 'MongoDB']"
            ]
          },
          "metadata": {},
          "execution_count": 17
        }
      ]
    },
    {
      "metadata": {
        "id": "f8QAinEjTsv9"
      },
      "cell_type": "markdown",
      "source": [
        "Create a workbook and select the active worksheet\n"
      ]
    },
    {
      "metadata": {
        "colab": {
          "base_uri": "https://localhost:8080/"
        },
        "id": "6HKQuvhWTsv9",
        "outputId": "38e94fe8-b93e-4a09-f012-56edb7402a5a"
      },
      "cell_type": "code",
      "source": [
        "#Create workbook\n",
        "wb=Workbook()\n",
        "ws=wb.active\n",
        "ws"
      ],
      "execution_count": 20,
      "outputs": [
        {
          "output_type": "execute_result",
          "data": {
            "text/plain": [
              "<Worksheet \"Sheet\">"
            ]
          },
          "metadata": {},
          "execution_count": 20
        }
      ]
    },
    {
      "metadata": {
        "id": "ZBSL2vq3Tsv9"
      },
      "cell_type": "markdown",
      "source": [
        "Find the number of jobs postings for each of the location in the above list.\n",
        "Write the Location name and the number of jobs postings into the excel spreadsheet.\n"
      ]
    },
    {
      "metadata": {
        "colab": {
          "base_uri": "https://localhost:8080/"
        },
        "id": "Cn43cIIqTsv9",
        "outputId": "9c6893b9-8a26-44c6-ada0-cb238f1ad1ea"
      },
      "cell_type": "code",
      "source": [
        "#Find the number of jobs postings for each of the location in the list\n",
        "tech_list = list()\n",
        "for language in technologies:\n",
        "    jobs = get_number_of_jobs_T(language)\n",
        "    tech_list.append(jobs)\n",
        "\n",
        "ws.append(['Language', 'Job Postings'])\n",
        "[ws.append(i) for i in tech_list]"
      ],
      "execution_count": null,
      "outputs": [
        {
          "output_type": "execute_result",
          "data": {
            "text/plain": [
              "[None, None, None, None, None, None, None, None, None, None, None, None]"
            ]
          },
          "metadata": {},
          "execution_count": 21
        }
      ]
    },
    {
      "metadata": {
        "id": "mp9N07nmTsv-"
      },
      "cell_type": "markdown",
      "source": [
        "Save into an excel spreadsheet named 'job-postings.xlsx'.\n"
      ]
    },
    {
      "metadata": {
        "id": "NxAI2yfWTsv-"
      },
      "cell_type": "code",
      "source": [
        "#Save xlsx file\n",
        "wb.save(\"github-job-postings.xlsx\")"
      ],
      "execution_count": null,
      "outputs": []
    },
    {
      "metadata": {
        "id": "YrMm4XD6Tsv-"
      },
      "cell_type": "markdown",
      "source": [
        "#### In the similar way, you can try for below given technologies and results  can be stored in an excel sheet.\n"
      ]
    },
    {
      "metadata": {
        "id": "ca4EFw-VTsv-"
      },
      "cell_type": "markdown",
      "source": [
        "Collect the number of job postings for the following languages using the API:\n",
        "\n",
        "*   C\n",
        "*   C#\n",
        "*   C++\n",
        "*   Java\n",
        "*   JavaScript\n",
        "*   Python\n",
        "*   Scala\n",
        "*   Oracle\n",
        "*   SQL Server\n",
        "*   MySQL Server\n",
        "*   PostgreSQL\n",
        "*   MongoDB\n"
      ]
    },
    {
      "metadata": {
        "id": "BVAC1QeqTsv_",
        "outputId": "2181b56e-300c-4cf6-c859-9e8ea6b1ba06"
      },
      "cell_type": "code",
      "source": [
        "#Another way of saving xlsx file\n",
        "import os\n",
        "print (os.path.abspath(\"github-job-postings.xlsx\"))\n",
        "filename=\"path/github-job-postings.xlsx\"\n",
        "df=pd.read_excel(\"github-job-postings.xlsx\")\n",
        "print(df)"
      ],
      "execution_count": null,
      "outputs": [
        {
          "output_type": "stream",
          "text": "/home/wsuser/work/github-job-postings.xlsx\n        Language  Job Postings\n0              C           184\n1           C%23             0\n2        C%2B%2B             0\n3           Java            92\n4     JavaScript            65\n5         Python            51\n6          Scala            47\n7         Oracle             8\n8     SQL Server            16\n9   MySQL Server             7\n10    PostgreSQL            17\n11       MongoDB            18\n",
          "name": "stdout"
        }
      ]
    },
    {
      "metadata": {
        "id": "SB5z0vpzTsv_"
      },
      "cell_type": "markdown",
      "source": [
        "## Author\n"
      ]
    },
    {
      "metadata": {
        "id": "zfTdpSZbTswA"
      },
      "cell_type": "markdown",
      "source": [
        "Ayushi Jain\n"
      ]
    },
    {
      "metadata": {
        "id": "cKuLDSqNTswA"
      },
      "cell_type": "markdown",
      "source": [
        "### Other Contributors\n"
      ]
    },
    {
      "metadata": {
        "id": "9uLQvtRPTswA"
      },
      "cell_type": "markdown",
      "source": [
        "Rav Ahuja\n",
        "\n",
        "Lakshmi Holla\n",
        "\n",
        "Malika\n"
      ]
    },
    {
      "metadata": {
        "id": "dugZQ304TswA"
      },
      "cell_type": "markdown",
      "source": [
        "## Change Log\n"
      ]
    },
    {
      "metadata": {
        "id": "S_ZKpX5hTswB"
      },
      "cell_type": "markdown",
      "source": [
        "| Date (YYYY-MM-DD) | Version | Changed By        | Change Description                 |\n",
        "| ----------------- | ------- | ----------------- | ---------------------------------- |\n",
        "| 2022-01-19        | 0.3     | Lakshmi Holla     | Added changes in the markdown      |\n",
        "| 2021-06-25        | 0.2     | Malika            | Updated GitHub job json link       |\n",
        "| 2020-10-17        | 0.1     | Ramesh Sannareddy | Created initial version of the lab |\n"
      ]
    },
    {
      "metadata": {
        "id": "grs5ss4vTswB"
      },
      "cell_type": "markdown",
      "source": [
        "Copyright © 2022 IBM Corporation. All rights reserved.\n"
      ]
    }
  ],
  "metadata": {
    "kernelspec": {
      "name": "python3",
      "display_name": "Python 3.9",
      "language": "python"
    },
    "language_info": {
      "name": "python",
      "version": "3.9.13",
      "mimetype": "text/x-python",
      "codemirror_mode": {
        "name": "ipython",
        "version": 3
      },
      "pygments_lexer": "ipython3",
      "nbconvert_exporter": "python",
      "file_extension": ".py"
    },
    "colab": {
      "provenance": []
    }
  },
  "nbformat": 4,
  "nbformat_minor": 0
}